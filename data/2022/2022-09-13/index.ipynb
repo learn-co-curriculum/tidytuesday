{
 "cells": [
  {
   "cell_type": "markdown",
   "id": "5edcf7ed",
   "metadata": {},
   "source": [
    "The data this week comes from [Bigfoot Field Researchers Organization (BFRO)](https://data.world/timothyrenner/www.bfro.net) by way of [Data.World](https://data.world/timothyrenner/bfro-sightings-data).\n",
    "\n",
    "A [bigfoot article](https://timothyrenner.github.io/datascience/2017/06/30/finding-bigfoot.html) by Timothy Renner.\n",
    "\n",
    "### \n",
    "\n",
    "\n",
    "### Data Dictionary\n",
    "\n",
    "# `bigfoot.csv`\n",
    "\n",
    "|variable           |class     |description |\n",
    "|:------------------|:---------|:-----------|\n",
    "|observed           |character |observed              |\n",
    "|location_details   |character |location_details      |\n",
    "|county             |character |county                |\n",
    "|state              |character |state                 |\n",
    "|season             |character |season                |\n",
    "|title              |character |title                 |\n",
    "|latitude           |double    |latitude              |\n",
    "|longitude          |double    |longitude             |\n",
    "|date               |double    |date                  |\n",
    "|number             |double    |number                |\n",
    "|classification     |character |classification        |\n",
    "|geohash            |character |geohash               |\n",
    "|temperature_high   |double    |temperature_high      |\n",
    "|temperature_mid    |double    |temperature_mid       |\n",
    "|temperature_low    |double    |temperature_low       |\n",
    "|dew_point          |double    |dew_point             |\n",
    "|humidity           |double    |humidity              |\n",
    "|cloud_cover        |double    |cloud_cover           |\n",
    "|moon_phase         |double    |moon_phase            |\n",
    "|precip_intensity   |double    |precip_intensity      |\n",
    "|precip_probability |double    |precip_probability    |\n",
    "|precip_type        |character |precip_type           |\n",
    "|pressure           |double    |pressure              |\n",
    "|summary            |character |summary               |\n",
    "|uv_index           |double    |uv_index              |\n",
    "|visibility         |double    |visibility            |\n",
    "|wind_bearing       |double    |wind_bearing          |\n",
    "|wind_speed         |double    |wind_speed            |\n",
    "\n",
    "### \n",
    "\n"
   ]
  },
  {
   "cell_type": "code",
   "execution_count": null,
   "id": "74790632",
   "metadata": {},
   "outputs": [],
   "source": [
    "# Happy coding! <3"
   ]
  }
 ],
 "metadata": {},
 "nbformat": 4,
 "nbformat_minor": 5
}