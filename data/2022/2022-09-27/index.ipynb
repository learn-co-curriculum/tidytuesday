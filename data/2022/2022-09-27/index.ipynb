{
 "cells": [
  {
   "cell_type": "markdown",
   "id": "f3cbf576",
   "metadata": {},
   "source": [
    "# Artists in the USA\n",
    "\n",
    "The data this week comes from [arts.gov](https://www.arts.gov/impact/research/arts-data-profile-series/adp-31/data-tables) by way of [Data is Plural](https://www.data-is-plural.com/archive/2022-09-21-edition/)\n",
    "\n",
    "[Artists in the Workforce: National and State Estimates for 2015-2019](https://www.arts.gov/impact/research/arts-data-profile-series/adp-31)\n",
    "\n",
    "> This Arts Data Profile gives national and state-level estimates of artists in the workforce. The figures derive from American Community Survey (ACS) data covering 2015-2019. The ACS is conducted by the U.S. Census Bureau. State-level estimates are available for the total number of artists and for each individual type of artist (workers in any of 13 specific artist occupations).\n",
    "\n",
    "### \n",
    "\n",
    "\n",
    "### Data Dictionary\n",
    "\n",
    "# `artists.csv`\n",
    "\n",
    "|variable          |class     |description |\n",
    "|:-----------------|:---------|:-----------|\n",
    "|state             |character | state/territory    |\n",
    "|race              |character | race    |\n",
    "|type              |character | type of artists    |\n",
    "|all_workers_n     |double    | all worker count    |\n",
    "|artists_n         |double    | artist count    |\n",
    "|artists_share     |double    | artist share    |\n",
    "|location_quotient |double    | Location quotients (LQ) measure an artist occupation's concentration in the labor force, relative to the U.S. labor force share. For example, an LQ of 1.2 indicates that the state's labor force in an occupation is 20 percent greater than the occupation's national labor force share. An LQ of 0.8 indicates that the state's labor force in an occupation is 20 percent below the occupation's national labor force share. |\n",
    "\n",
    "### \n",
    "\n"
   ]
  },
  {
   "cell_type": "code",
   "execution_count": null,
   "id": "c4921b26",
   "metadata": {},
   "outputs": [],
   "source": [
    "# Happy coding! <3"
   ]
  }
 ],
 "metadata": {},
 "nbformat": 4,
 "nbformat_minor": 5
}