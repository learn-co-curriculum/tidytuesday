{
 "cells": [
  {
   "cell_type": "markdown",
   "id": "4b42e823",
   "metadata": {},
   "source": [
    "\n",
    "# LEGO sets\n",
    "\n",
    "The data this week comes from [rebrickable](https://rebrickable.com/downloads/) courtesy of [Georgios Karamanis](https://github.com/rfordatascience/tidytuesday/issues/455).\n",
    "\n",
    "> The LEGO Parts/Sets/Colors and Inventories of every official LEGO set in the Rebrickable database is available for download as csv files here. These files are automatically updated daily. If you need more details, you can use the API which provides real-time data, but has rate limits that prevent bulk downloading of data.\n",
    "\n",
    "\n",
    "\n",
    "### \n",
    "\n",
    "\n",
    "### Data Dictionary\n",
    "\n",
    "# `inventories.csv.gz`\n",
    "\n",
    "|variable |class     |description |\n",
    "|:--------|:---------|:-----------|\n",
    "|id       |double    |variable    |\n",
    "|version  |double    |variable    |\n",
    "|set_num  |character |variable    |\n",
    "\n",
    "# `inventory_sets.csv.gz`\n",
    "\n",
    "|variable     |class     |description |\n",
    "|:------------|:---------|:-----------|\n",
    "|inventory_id |double    |variable    |\n",
    "|set_num      |character |variable    |\n",
    "|quantity     |double    |variable    |\n",
    "\n",
    "# `sets.csv.gz`\n",
    "\n",
    "|variable  |class     |description |\n",
    "|:---------|:---------|:-----------|\n",
    "|set_num   |character |variable    |\n",
    "|name      |character |variable    |\n",
    "|year      |double    |variable    |\n",
    "|theme_id  |double    |variable    |\n",
    "|num_parts |double    |variable    |\n",
    "|img_url   |character |variable    |\n",
    "\n",
    "### \n",
    "\n"
   ]
  },
  {
   "cell_type": "code",
   "execution_count": null,
   "id": "02a39e44",
   "metadata": {},
   "outputs": [],
   "source": [
    "# Happy coding! <3"
   ]
  }
 ],
 "metadata": {},
 "nbformat": 4,
 "nbformat_minor": 5
}