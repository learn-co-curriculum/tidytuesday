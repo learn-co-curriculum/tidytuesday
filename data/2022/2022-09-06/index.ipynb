{
 "cells": [
  {
   "cell_type": "markdown",
   "id": "6e6a8cc6",
   "metadata": {},
   "source": []
  },
  {
   "cell_type": "code",
   "execution_count": null,
   "id": "c201f9b5",
   "metadata": {},
   "outputs": [],
   "source": [
    "# Happy coding! <3"
   ]
  }
 ],
 "metadata": {},
 "nbformat": 4,
 "nbformat_minor": 5
}