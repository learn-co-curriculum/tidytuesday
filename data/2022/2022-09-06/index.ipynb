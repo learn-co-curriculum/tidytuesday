{
 "cells": [
  {
   "cell_type": "markdown",
   "id": "9f110dfc",
   "metadata": {},
   "source": []
  },
  {
   "cell_type": "code",
   "execution_count": null,
   "id": "a46c45ef",
   "metadata": {},
   "outputs": [],
   "source": [
    "# Happy coding! <3"
   ]
  }
 ],
 "metadata": {},
 "nbformat": 4,
 "nbformat_minor": 5
}